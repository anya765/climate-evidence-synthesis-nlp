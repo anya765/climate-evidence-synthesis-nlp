{
  "nbformat": 4,
  "nbformat_minor": 0,
  "metadata": {
    "colab": {
      "provenance": [],
      "authorship_tag": "ABX9TyP6RPbIkwv4BDVlerS6K7cN",
      "include_colab_link": true
    },
    "kernelspec": {
      "name": "python3",
      "display_name": "Python 3"
    },
    "language_info": {
      "name": "python"
    }
  },
  "cells": [
    {
      "cell_type": "markdown",
      "metadata": {
        "id": "view-in-github",
        "colab_type": "text"
      },
      "source": [
        "<a href=\"https://colab.research.google.com/github/anya765/climate-evidence-synthesis-nlp/blob/main/viz_experiments.ipynb\" target=\"_parent\"><img src=\"https://colab.research.google.com/assets/colab-badge.svg\" alt=\"Open In Colab\"/></a>"
      ]
    },
    {
      "cell_type": "code",
      "execution_count": null,
      "metadata": {
        "colab": {
          "base_uri": "https://localhost:8080/",
          "height": 355
        },
        "id": "PDAX0X5fkS02",
        "outputId": "b60de6e3-48aa-4382-b6f5-a84e95a9d778"
      },
      "outputs": [
        {
          "output_type": "stream",
          "name": "stdout",
          "text": [
            "Drive already mounted at /content/drive; to attempt to forcibly remount, call drive.mount(\"/content/drive\", force_remount=True).\n",
            "[0.94393845 1.09865047 1.09353705 1.03661328 1.03103079]\n",
            "[1.90174079 1.94926604 1.96593569 1.91669512 1.92124462]\n",
            "[3.08072857 3.04762563 2.94208991 3.03827949 3.02841906]\n"
          ]
        },
        {
          "output_type": "display_data",
          "data": {
            "text/plain": [
              "<Figure size 432x288 with 1 Axes>"
            ],
            "image/png": "[encoded data removed]"
          },
          "metadata": {
            "needs_background": "light"
          }
        }
      ],
      "source": [
        "import pandas as pd\n",
        "import matplotlib.pyplot as plt\n",
        "import numpy as np\n",
        "\n",
        "import os\n",
        "if os.path.exists(\"/content/\"):\n",
        "    from google.colab import drive\n",
        "    import os\n",
        "    drive.mount('/content/drive')\n",
        "    os.chdir(\"/content/drive/MyDrive/climate-science\") \n",
        "\n",
        "results = pd.read_json(\"cv_data/INCLUDE/outer_results_5_splits.json\")\n",
        "\n",
        "fig, ax = plt.subplots()\n",
        "\n",
        "for i, metric in enumerate(results.columns):\n",
        "    jitter = np.random.random(size=results.shape[0])*0.2 + i+0.9\n",
        "    print(jitter)\n",
        "    ax.scatter(jitter, results[metric], color=\"C0\")\n",
        "    \n",
        "ax.boxplot(results, showfliers=False)\n",
        "ax.set_xticklabels(results.columns)\n",
        "plt.show()"
      ]
    },
    {
      "cell_type": "code",
      "source": [
        "results"
      ],
      "metadata": {
        "colab": {
          "base_uri": "https://localhost:8080/",
          "height": 206
        },
        "id": "QdQ0jOd9kzRX",
        "outputId": "c6c42dd8-61b8-4590-d79a-5b6cbc052c3f"
      },
      "execution_count": null,
      "outputs": [
        {
          "output_type": "execute_result",
          "data": {
            "text/plain": [
              "   f1_score  precision_score  recall_score\n",
              "0  0.815972         0.804795      0.827465\n",
              "1  0.829175         0.818182      0.840467\n",
              "2  0.822642         0.789855      0.858268\n",
              "3  0.816000         0.809524      0.822581\n",
              "4  0.852273         0.849057      0.855513"
            ],
            "text/html": [
              "\n",
              "  <div id=\"df-60140525-57c6-4067-aa28-cd2046d59492\">\n",
              "    <div class=\"colab-df-container\">\n",
              "      <div>\n",
              "<style scoped>\n",
              "    .dataframe tbody tr th:only-of-type {\n",
              "        vertical-align: middle;\n",
              "    }\n",
              "\n",
              "    .dataframe tbody tr th {\n",
              "        vertical-align: top;\n",
              "    }\n",
              "\n",
              "    .dataframe thead th {\n",
              "        text-align: right;\n",
              "    }\n",
              "</style>\n",
              "<table border=\"1\" class=\"dataframe\">\n",
              "  <thead>\n",
              "    <tr style=\"text-align: right;\">\n",
              "      <th></th>\n",
              "      <th>f1_score</th>\n",
              "      <th>precision_score</th>\n",
              "      <th>recall_score</th>\n",
              "    </tr>\n",
              "  </thead>\n",
              "  <tbody>\n",
              "    <tr>\n",
              "      <th>0</th>\n",
              "      <td>0.815972</td>\n",
              "      <td>0.804795</td>\n",
              "      <td>0.827465</td>\n",
              "    </tr>\n",
              "    <tr>\n",
              "      <th>1</th>\n",
              "      <td>0.829175</td>\n",
              "      <td>0.818182</td>\n",
              "      <td>0.840467</td>\n",
              "    </tr>\n",
              "    <tr>\n",
              "      <th>2</th>\n",
              "      <td>0.822642</td>\n",
              "      <td>0.789855</td>\n",
              "      <td>0.858268</td>\n",
              "    </tr>\n",
              "    <tr>\n",
              "      <th>3</th>\n",
              "      <td>0.816000</td>\n",
              "      <td>0.809524</td>\n",
              "      <td>0.822581</td>\n",
              "    </tr>\n",
              "    <tr>\n",
              "      <th>4</th>\n",
              "      <td>0.852273</td>\n",
              "      <td>0.849057</td>\n",
              "      <td>0.855513</td>\n",
              "    </tr>\n",
              "  </tbody>\n",
              "</table>\n",
              "</div>\n",
              "      <button class=\"colab-df-convert\" onclick=\"convertToInteractive('df-60140525-57c6-4067-aa28-cd2046d59492')\"\n",
              "              title=\"Convert this dataframe to an interactive table.\"\n",
              "              style=\"display:none;\">\n",
              "        \n",
              "  <svg xmlns=\"http://www.w3.org/2000/svg\" height=\"24px\"viewBox=\"0 0 24 24\"\n",
              "       width=\"24px\">\n",
              "    <path d=\"M0 0h24v24H0V0z\" fill=\"none\"/>\n",
              "    <path d=\"M18.56 5.44l.94 2.06.94-2.06 2.06-.94-2.06-.94-.94-2.06-.94 2.06-2.06.94zm-11 1L8.5 8.5l.94-2.06 2.06-.94-2.06-.94L8.5 2.5l-.94 2.06-2.06.94zm10 10l.94 2.06.94-2.06 2.06-.94-2.06-.94-.94-2.06-.94 2.06-2.06.94z\"/><path d=\"M17.41 7.96l-1.37-1.37c-.4-.4-.92-.59-1.43-.59-.52 0-1.04.2-1.43.59L10.3 9.45l-7.72 7.72c-.78.78-.78 2.05 0 2.83L4 21.41c.39.39.9.59 1.41.59.51 0 1.02-.2 1.41-.59l7.78-7.78 2.81-2.81c.8-.78.8-2.07 0-2.86zM5.41 20L4 18.59l7.72-7.72 1.47 1.35L5.41 20z\"/>\n",
              "  </svg>\n",
              "      </button>\n",
              "      \n",
              "  <style>\n",
              "    .colab-df-container {\n",
              "      display:flex;\n",
              "      flex-wrap:wrap;\n",
              "      gap: 12px;\n",
              "    }\n",
              "\n",
              "    .colab-df-convert {\n",
              "      background-color: #E8F0FE;\n",
              "      border: none;\n",
              "      border-radius: 50%;\n",
              "      cursor: pointer;\n",
              "      display: none;\n",
              "      fill: #1967D2;\n",
              "      height: 32px;\n",
              "      padding: 0 0 0 0;\n",
              "      width: 32px;\n",
              "    }\n",
              "\n",
              "    .colab-df-convert:hover {\n",
              "      background-color: #E2EBFA;\n",
              "      box-shadow: 0px 1px 2px rgba(60, 64, 67, 0.3), 0px 1px 3px 1px rgba(60, 64, 67, 0.15);\n",
              "      fill: #174EA6;\n",
              "    }\n",
              "\n",
              "    [theme=dark] .colab-df-convert {\n",
              "      background-color: #3B4455;\n",
              "      fill: #D2E3FC;\n",
              "    }\n",
              "\n",
              "    [theme=dark] .colab-df-convert:hover {\n",
              "      background-color: #434B5C;\n",
              "      box-shadow: 0px 1px 3px 1px rgba(0, 0, 0, 0.15);\n",
              "      filter: drop-shadow(0px 1px 2px rgba(0, 0, 0, 0.3));\n",
              "      fill: #FFFFFF;\n",
              "    }\n",
              "  </style>\n",
              "\n",
              "      <script>\n",
              "        const buttonEl =\n",
              "          document.querySelector('#df-60140525-57c6-4067-aa28-cd2046d59492 button.colab-df-convert');\n",
              "        buttonEl.style.display =\n",
              "          google.colab.kernel.accessAllowed ? 'block' : 'none';\n",
              "\n",
              "        async function convertToInteractive(key) {\n",
              "          const element = document.querySelector('#df-60140525-57c6-4067-aa28-cd2046d59492');\n",
              "          const dataTable =\n",
              "            await google.colab.kernel.invokeFunction('convertToInteractive',\n",
              "                                                     [key], {});\n",
              "          if (!dataTable) return;\n",
              "\n",
              "          const docLinkHtml = 'Like what you see? Visit the ' +\n",
              "            '<a target=\"_blank\" href=https://colab.research.google.com/notebooks/data_table.ipynb>data table notebook</a>'\n",
              "            + ' to learn more about interactive tables.';\n",
              "          element.innerHTML = '';\n",
              "          dataTable['output_type'] = 'display_data';\n",
              "          await google.colab.output.renderOutput(dataTable, element);\n",
              "          const docLink = document.createElement('div');\n",
              "          docLink.innerHTML = docLinkHtml;\n",
              "          element.appendChild(docLink);\n",
              "        }\n",
              "      </script>\n",
              "    </div>\n",
              "  </div>\n",
              "  "
            ]
          },
          "metadata": {},
          "execution_count": 3
        }
      ]
    },
    {
      "cell_type": "code",
      "source": [
        "results = pd.read_json(\"cv_data/12/outer_results_5_splits.json\")\n",
        "impact_labels = [\n",
        "    \"Coastal and marine Ecosystems\",\n",
        "    \"Human and managed systems\",\n",
        "    \"Mountains, snow and ice\",\n",
        "    \"Rivers, lakes, and soil moisture\",\n",
        "    \"Terrestrial ES\"\n",
        "]\n",
        "impact_indices = [x for x in range(len(impact_labels))]\n",
        "\n",
        "fig, axs = plt.subplots(3, figsize=(7,10), sharex=True, sharey=True)\n",
        "\n",
        "metrics = [\"f1_score\", \"recall_score\", \"precision_score\"]\n",
        "for i, metric in enumerate(metrics):\n",
        "    ax = axs[i]\n",
        "    ax.set_title(metric)\n",
        "    metric_labels = [f\"{metric}_{x}\" for x in [\"micro\", \"macro\"] + impact_indices]\n",
        "    for j, col in enumerate(metric_labels):\n",
        "        jitter = np.random.random(size=results.shape[0])*0.2 + j+0.9\n",
        "        ax.scatter(jitter, results[col], color=\"C0\")    \n",
        "        \n",
        "    ax.boxplot([results[col] for col in metric_labels], showfliers=False)\n",
        "    ax.grid(axis=\"y\")\n",
        "    \n",
        "impact_labels = [\"Micro average\", \"Macro average\"] + impact_labels\n",
        "ax.set_xticks(range(1,len(impact_labels)+1))\n",
        "ax.set_xticklabels(impact_labels, rotation=45, ha=\"right\")"
      ],
      "metadata": {
        "colab": {
          "base_uri": "https://localhost:8080/",
          "height": 839
        },
        "id": "GtfxhPlKmJpm",
        "outputId": "4b920525-1688-4a81-a2ed-ec5e36fa1dd3"
      },
      "execution_count": null,
      "outputs": [
        {
          "output_type": "execute_result",
          "data": {
            "text/plain": [
              "[Text(0, 0, 'Micro average'),\n",
              " Text(0, 0, 'Macro average'),\n",
              " Text(0, 0, 'Coastal and marine Ecosystems'),\n",
              " Text(0, 0, 'Human and managed systems'),\n",
              " Text(0, 0, 'Mountains, snow and ice'),\n",
              " Text(0, 0, 'Rivers, lakes, and soil moisture'),\n",
              " Text(0, 0, 'Terrestrial ES')]"
            ]
          },
          "metadata": {},
          "execution_count": 4
        },
        {
          "output_type": "display_data",
          "data": {
            "text/plain": [
              "<Figure size 504x720 with 3 Axes>"
            ],
            "image/png": "[encoded data removed]"
          },
          "metadata": {
            "needs_background": "light"
          }
        }
      ]
    },
    {
      "cell_type": "code",
      "source": [],
      "metadata": {
        "id": "9Doup4BfmK4h"
      },
      "execution_count": null,
      "outputs": []
    }
  ]
}